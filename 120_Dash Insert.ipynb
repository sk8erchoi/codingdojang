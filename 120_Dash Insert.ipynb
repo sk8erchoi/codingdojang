{
 "cells": [
  {
   "cell_type": "markdown",
   "id": "006894a7",
   "metadata": {},
   "source": [
    "https://codingdojang.com/scode/529?answer=25155#answer_25155"
   ]
  },
  {
   "cell_type": "code",
   "execution_count": 1,
   "id": "71084510",
   "metadata": {},
   "outputs": [],
   "source": [
    "def dash_insert(s):\n",
    "    result = ''\n",
    "    for i in range(len(s)):\n",
    "        result += s[i]\n",
    "        if i != 0 and i < len(s) - 1:\n",
    "            if int(s[i]) % 2 == 0 and int(s[i + 1]) % 2 == 0:\n",
    "                result += '*'\n",
    "            elif int(s[i]) % 2 == 1 and int(s[i + 1]) % 2 == 1:\n",
    "                result += '-'\n",
    "    return result"
   ]
  },
  {
   "cell_type": "code",
   "execution_count": 2,
   "id": "adde2387",
   "metadata": {},
   "outputs": [
    {
     "data": {
      "text/plain": [
       "'454*67-9-3'"
      ]
     },
     "execution_count": 2,
     "metadata": {},
     "output_type": "execute_result"
    }
   ],
   "source": [
    "dash_insert('4546793')"
   ]
  },
  {
   "cell_type": "code",
   "execution_count": null,
   "id": "61450fb8",
   "metadata": {},
   "outputs": [],
   "source": []
  }
 ],
 "metadata": {
  "kernelspec": {
   "display_name": "Python 3",
   "language": "python",
   "name": "python3"
  },
  "language_info": {
   "codemirror_mode": {
    "name": "ipython",
    "version": 3
   },
   "file_extension": ".py",
   "mimetype": "text/x-python",
   "name": "python",
   "nbconvert_exporter": "python",
   "pygments_lexer": "ipython3",
   "version": "3.8.8"
  }
 },
 "nbformat": 4,
 "nbformat_minor": 5
}
