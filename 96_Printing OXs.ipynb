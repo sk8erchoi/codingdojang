{
 "cells": [
  {
   "cell_type": "markdown",
   "id": "e0f8286d",
   "metadata": {},
   "source": [
    "https://codingdojang.com/scode/492"
   ]
  },
  {
   "cell_type": "code",
   "execution_count": 1,
   "id": "24864dfd",
   "metadata": {},
   "outputs": [],
   "source": [
    "def f(n):\n",
    "    b = 1\n",
    "    for i in range(n):\n",
    "        print(('{0:06b}'.format(b)).translate(str.maketrans('01', 'OX')))\n",
    "        b = (b << 1) + 1\n",
    "        "
   ]
  },
  {
   "cell_type": "code",
   "execution_count": 2,
   "id": "a5fcf6b4",
   "metadata": {},
   "outputs": [
    {
     "name": "stdout",
     "output_type": "stream",
     "text": [
      "OOOOOX\n",
      "OOOOXX\n",
      "OOOXXX\n",
      "OOXXXX\n",
      "OXXXXX\n",
      "XXXXXX\n"
     ]
    }
   ],
   "source": [
    "f(6)"
   ]
  },
  {
   "cell_type": "code",
   "execution_count": 3,
   "id": "9721c79c",
   "metadata": {},
   "outputs": [],
   "source": [
    "def g(n):\n",
    "    b = 1\n",
    "    for i in range(n):\n",
    "        print('{0:b}'.format(b))\n",
    "        b = (b << 1) + 1"
   ]
  },
  {
   "cell_type": "code",
   "execution_count": 4,
   "id": "77250367",
   "metadata": {},
   "outputs": [
    {
     "name": "stdout",
     "output_type": "stream",
     "text": [
      "1\n",
      "11\n",
      "111\n",
      "1111\n",
      "11111\n",
      "111111\n"
     ]
    }
   ],
   "source": [
    "g(6)"
   ]
  },
  {
   "cell_type": "code",
   "execution_count": 5,
   "id": "c35f9c2c",
   "metadata": {},
   "outputs": [],
   "source": [
    "def h(n):\n",
    "    b = 1\n",
    "    for i in range(n):\n",
    "        print('{0:06b}'.format(b))\n",
    "        b = (b << 1) + 1"
   ]
  },
  {
   "cell_type": "code",
   "execution_count": 6,
   "id": "f293d523",
   "metadata": {},
   "outputs": [
    {
     "name": "stdout",
     "output_type": "stream",
     "text": [
      "000001\n",
      "000011\n",
      "000111\n",
      "001111\n",
      "011111\n",
      "111111\n"
     ]
    }
   ],
   "source": [
    "h(6)"
   ]
  }
 ],
 "metadata": {
  "kernelspec": {
   "display_name": "Python 3",
   "language": "python",
   "name": "python3"
  },
  "language_info": {
   "codemirror_mode": {
    "name": "ipython",
    "version": 3
   },
   "file_extension": ".py",
   "mimetype": "text/x-python",
   "name": "python",
   "nbconvert_exporter": "python",
   "pygments_lexer": "ipython3",
   "version": "3.8.8"
  }
 },
 "nbformat": 4,
 "nbformat_minor": 5
}
