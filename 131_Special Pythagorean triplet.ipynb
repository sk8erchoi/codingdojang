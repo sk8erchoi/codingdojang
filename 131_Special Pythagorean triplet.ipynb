{
 "cells": [
  {
   "cell_type": "markdown",
   "id": "31826441",
   "metadata": {},
   "source": [
    "세 자연수 a, b, c 가 피타고라스 정리 a^2 + b^2 = c^2 를 만족하면 피타고라스 수라고 부릅니다 (여기서 a < b < c ). 예를 들면 3^2 + 4^2 = 9 + 16 = 25 = 5^2 이므로 3, 4, 5는 피타고라스 수입니다.\n",
    "\n",
    "a + b + c = 1000 인 피타고라스 수 a, b, c는 한 가지 뿐입니다. 이 때, a × b × c 는 얼마입니까?"
   ]
  },
  {
   "cell_type": "markdown",
   "id": "590edd7d",
   "metadata": {},
   "source": [
    "https://codingdojang.com/scode/545?answer=25158#answer_25158"
   ]
  },
  {
   "cell_type": "code",
   "execution_count": 5,
   "id": "5167388c",
   "metadata": {},
   "outputs": [],
   "source": [
    "def pythagorean_number(a, b, c):\n",
    "    return a**2 + b**2 == c**2"
   ]
  },
  {
   "cell_type": "code",
   "execution_count": 6,
   "id": "b42aebb5",
   "metadata": {},
   "outputs": [
    {
     "data": {
      "text/plain": [
       "True"
      ]
     },
     "execution_count": 6,
     "metadata": {},
     "output_type": "execute_result"
    }
   ],
   "source": [
    "pythagorean_number(3, 4, 5)"
   ]
  },
  {
   "cell_type": "markdown",
   "id": "c84decf0",
   "metadata": {},
   "source": [
    "a, b, c는 삼각형의 세 변의 길이에 해당하므로 b + c > a  \n",
    "문제에서 b + c = 1000 - a  \n",
    "따라서 a < 500  \n",
    "마찬가지로 b < 500  \n",
    "마찬가지로 c < 500\n",
    "\n",
    "a < b < c는 range의 start에 표현\n",
    "https://codingdojang.com/scode/545?answer=7448#answer_7448 참고함\n"
   ]
  },
  {
   "cell_type": "code",
   "execution_count": 9,
   "id": "5e98d542",
   "metadata": {},
   "outputs": [],
   "source": [
    "def f():\n",
    "    for a in range(1, 500):\n",
    "        for b in range(a + 1, 500):\n",
    "            c = 1000 - (a + b)\n",
    "            if pythagorean_number(a, b, c):\n",
    "                return a * b * c"
   ]
  },
  {
   "cell_type": "code",
   "execution_count": 10,
   "id": "606c5746",
   "metadata": {},
   "outputs": [
    {
     "data": {
      "text/plain": [
       "31875000"
      ]
     },
     "execution_count": 10,
     "metadata": {},
     "output_type": "execute_result"
    }
   ],
   "source": [
    "f()"
   ]
  },
  {
   "cell_type": "code",
   "execution_count": null,
   "id": "8707b290",
   "metadata": {},
   "outputs": [],
   "source": []
  }
 ],
 "metadata": {
  "kernelspec": {
   "display_name": "Python 3",
   "language": "python",
   "name": "python3"
  },
  "language_info": {
   "codemirror_mode": {
    "name": "ipython",
    "version": 3
   },
   "file_extension": ".py",
   "mimetype": "text/x-python",
   "name": "python",
   "nbconvert_exporter": "python",
   "pygments_lexer": "ipython3",
   "version": "3.8.8"
  }
 },
 "nbformat": 4,
 "nbformat_minor": 5
}
