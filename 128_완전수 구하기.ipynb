{
 "cells": [
  {
   "cell_type": "markdown",
   "id": "a4b92204",
   "metadata": {},
   "source": [
    "자기 자신을 제외한 모든 양의 약수들의 합이 자기 자신이 되는 자연수를 완전수라고 한다. 예를 들면, 6과 28은 완전수이다. 6=1+2+3 // 1,2,3은 각각 6의 약수 28=1+2+4+7+14 // 1,2,4,7,14는 각각 28의 약수\n",
    "\n",
    "입력으로 자연수 N을 받고, 출력으로 N 이하의 모든 완전수를 출력하는 코드를 작성하라.\n",
    "\n",
    "https://codingdojang.com/scode/539"
   ]
  },
  {
   "cell_type": "code",
   "execution_count": 23,
   "id": "a700d352",
   "metadata": {},
   "outputs": [],
   "source": [
    "def perfect(x):\n",
    "    return sum(filter(lambda a: x % a == 0, [i for i in range(1, x)])) == x"
   ]
  },
  {
   "cell_type": "code",
   "execution_count": 24,
   "id": "9344be42",
   "metadata": {},
   "outputs": [
    {
     "data": {
      "text/plain": [
       "True"
      ]
     },
     "execution_count": 24,
     "metadata": {},
     "output_type": "execute_result"
    }
   ],
   "source": [
    "perfect(6)"
   ]
  },
  {
   "cell_type": "code",
   "execution_count": 25,
   "id": "30ea1979",
   "metadata": {},
   "outputs": [
    {
     "data": {
      "text/plain": [
       "False"
      ]
     },
     "execution_count": 25,
     "metadata": {},
     "output_type": "execute_result"
    }
   ],
   "source": [
    "perfect(7)"
   ]
  },
  {
   "cell_type": "code",
   "execution_count": 26,
   "id": "4fa92d9c",
   "metadata": {},
   "outputs": [],
   "source": [
    "def f(n):\n",
    "    for j in range(1, n + 1):\n",
    "        if perfect(j):\n",
    "            print(j)"
   ]
  },
  {
   "cell_type": "code",
   "execution_count": 27,
   "id": "0377b5c2",
   "metadata": {},
   "outputs": [
    {
     "name": "stdout",
     "output_type": "stream",
     "text": [
      "6\n",
      "28\n"
     ]
    }
   ],
   "source": [
    "f(28)"
   ]
  },
  {
   "cell_type": "code",
   "execution_count": null,
   "id": "07a8bba4",
   "metadata": {},
   "outputs": [],
   "source": []
  }
 ],
 "metadata": {
  "kernelspec": {
   "display_name": "Python 3",
   "language": "python",
   "name": "python3"
  },
  "language_info": {
   "codemirror_mode": {
    "name": "ipython",
    "version": 3
   },
   "file_extension": ".py",
   "mimetype": "text/x-python",
   "name": "python",
   "nbconvert_exporter": "python",
   "pygments_lexer": "ipython3",
   "version": "3.8.8"
  }
 },
 "nbformat": 4,
 "nbformat_minor": 5
}
